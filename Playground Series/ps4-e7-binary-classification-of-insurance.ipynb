{
  "metadata": {
    "kernelspec": {
      "language": "python",
      "display_name": "Python 3",
      "name": "python3"
    },
    "language_info": {
      "name": "python",
      "version": "3.10.13",
      "mimetype": "text/x-python",
      "codemirror_mode": {
        "name": "ipython",
        "version": 3
      },
      "pygments_lexer": "ipython3",
      "nbconvert_exporter": "python",
      "file_extension": ".py"
    },
    "kaggle": {
      "accelerator": "none",
      "dataSources": [
        {
          "sourceId": 73291,
          "databundleVersionId": 8930475,
          "sourceType": "competition"
        }
      ],
      "dockerImageVersionId": 30732,
      "isInternetEnabled": true,
      "language": "python",
      "sourceType": "notebook",
      "isGpuEnabled": false
    },
    "colab": {
      "name": "PS4 E7 - Binary Classification of insurance",
      "provenance": []
    }
  },
  "nbformat_minor": 0,
  "nbformat": 4,
  "cells": [
    {
      "cell_type": "code",
      "source": [],
      "metadata": {
        "id": "gE_DCFbVilYF"
      },
      "execution_count": null,
      "outputs": []
    },
    {
      "cell_type": "markdown",
      "source": [
        "|Phase|Sub Phase|Description|Public Score|\n",
        "|:---:|:-------:|:---------:|:----------:|\n",
        "|1 | 1| Cat Boost Model trained on categorical data with no optimization |0.88005|\n",
        "|1| 2| Cat Boost Model trained on categorical data with optimized catboost params from other nbs|0.88095|"
      ],
      "metadata": {
        "_uuid": "8f2839f25d086af736a60e9eeb907d3b93b6e0e5",
        "_cell_guid": "b1076dfc-b9ad-4769-8c92-a6c4dae69d19",
        "execution": {
          "iopub.status.busy": "2024-07-12T00:04:14.122823Z",
          "iopub.execute_input": "2024-07-12T00:04:14.123459Z",
          "iopub.status.idle": "2024-07-12T00:04:15.906429Z",
          "shell.execute_reply.started": "2024-07-12T00:04:14.123425Z",
          "shell.execute_reply": "2024-07-12T00:04:15.905599Z"
        },
        "id": "JjW-eAWEilYG"
      }
    },
    {
      "cell_type": "code",
      "source": [
        "# Importing generic libraries\n",
        "import pandas as pd\n",
        "import numpy as np\n",
        "import os\n",
        "import re\n",
        "\n",
        "# Importing visualization libraries\n",
        "import seaborn as sns\n",
        "import matplotlib.pyplot as plt\n",
        "\n",
        "# Import sklearn module\n",
        "from sklearn.preprocessing import StandardScaler, MinMaxScaler\n",
        "from sklearn.model_selection import train_test_split\n",
        "from sklearn.metrics import (roc_auc_score,\n",
        "                             confusion_matrix,\n",
        "                             classification_report)\n",
        "\n",
        "#Importing other libraries\n",
        "from imblearn.over_sampling import SMOTE\n",
        "\n",
        "#Importing Boost Classification Libraries\n",
        "from catboost import CatBoostClassifier, Pool"
      ],
      "metadata": {
        "execution": {
          "iopub.status.busy": "2024-07-12T19:56:39.198536Z",
          "iopub.execute_input": "2024-07-12T19:56:39.198924Z",
          "iopub.status.idle": "2024-07-12T19:56:41.163909Z",
          "shell.execute_reply.started": "2024-07-12T19:56:39.198885Z",
          "shell.execute_reply": "2024-07-12T19:56:41.162738Z"
        },
        "trusted": true,
        "id": "3cG5detjilYI"
      },
      "execution_count": null,
      "outputs": []
    },
    {
      "cell_type": "code",
      "source": [
        "train = pd.read_csv('/kaggle/input/playground-series-s4e7/train.csv')\n",
        "test = pd.read_csv('/kaggle/input/playground-series-s4e7/test.csv')\n",
        "sample_submission = pd.read_csv('/kaggle/input/playground-series-s4e7/sample_submission.csv')\n",
        "\n",
        "print(len(train))\n",
        "print(len(test))\n",
        "\n",
        "train.head()"
      ],
      "metadata": {
        "execution": {
          "iopub.status.busy": "2024-07-12T16:49:46.551391Z",
          "iopub.execute_input": "2024-07-12T16:49:46.551863Z",
          "iopub.status.idle": "2024-07-12T16:50:22.62057Z",
          "shell.execute_reply.started": "2024-07-12T16:49:46.551832Z",
          "shell.execute_reply": "2024-07-12T16:50:22.619603Z"
        },
        "trusted": true,
        "id": "9CRtmuwOilYJ",
        "outputId": "531e33df-d844-4e0c-9464-4070b5b58431"
      },
      "execution_count": null,
      "outputs": [
        {
          "name": "stdout",
          "text": "11504798\n7669866\n",
          "output_type": "stream"
        },
        {
          "execution_count": 2,
          "output_type": "execute_result",
          "data": {
            "text/plain": "   id  Gender  Age  Driving_License  Region_Code  Previously_Insured  \\\n0   0    Male   21                1         35.0                   0   \n1   1    Male   43                1         28.0                   0   \n2   2  Female   25                1         14.0                   1   \n3   3  Female   35                1          1.0                   0   \n4   4  Female   36                1         15.0                   1   \n\n  Vehicle_Age Vehicle_Damage  Annual_Premium  Policy_Sales_Channel  Vintage  \\\n0    1-2 Year            Yes         65101.0                 124.0      187   \n1   > 2 Years            Yes         58911.0                  26.0      288   \n2    < 1 Year             No         38043.0                 152.0      254   \n3    1-2 Year            Yes          2630.0                 156.0       76   \n4    1-2 Year             No         31951.0                 152.0      294   \n\n   Response  \n0         0  \n1         1  \n2         0  \n3         0  \n4         0  ",
            "text/html": "<div>\n<style scoped>\n    .dataframe tbody tr th:only-of-type {\n        vertical-align: middle;\n    }\n\n    .dataframe tbody tr th {\n        vertical-align: top;\n    }\n\n    .dataframe thead th {\n        text-align: right;\n    }\n</style>\n<table border=\"1\" class=\"dataframe\">\n  <thead>\n    <tr style=\"text-align: right;\">\n      <th></th>\n      <th>id</th>\n      <th>Gender</th>\n      <th>Age</th>\n      <th>Driving_License</th>\n      <th>Region_Code</th>\n      <th>Previously_Insured</th>\n      <th>Vehicle_Age</th>\n      <th>Vehicle_Damage</th>\n      <th>Annual_Premium</th>\n      <th>Policy_Sales_Channel</th>\n      <th>Vintage</th>\n      <th>Response</th>\n    </tr>\n  </thead>\n  <tbody>\n    <tr>\n      <th>0</th>\n      <td>0</td>\n      <td>Male</td>\n      <td>21</td>\n      <td>1</td>\n      <td>35.0</td>\n      <td>0</td>\n      <td>1-2 Year</td>\n      <td>Yes</td>\n      <td>65101.0</td>\n      <td>124.0</td>\n      <td>187</td>\n      <td>0</td>\n    </tr>\n    <tr>\n      <th>1</th>\n      <td>1</td>\n      <td>Male</td>\n      <td>43</td>\n      <td>1</td>\n      <td>28.0</td>\n      <td>0</td>\n      <td>&gt; 2 Years</td>\n      <td>Yes</td>\n      <td>58911.0</td>\n      <td>26.0</td>\n      <td>288</td>\n      <td>1</td>\n    </tr>\n    <tr>\n      <th>2</th>\n      <td>2</td>\n      <td>Female</td>\n      <td>25</td>\n      <td>1</td>\n      <td>14.0</td>\n      <td>1</td>\n      <td>&lt; 1 Year</td>\n      <td>No</td>\n      <td>38043.0</td>\n      <td>152.0</td>\n      <td>254</td>\n      <td>0</td>\n    </tr>\n    <tr>\n      <th>3</th>\n      <td>3</td>\n      <td>Female</td>\n      <td>35</td>\n      <td>1</td>\n      <td>1.0</td>\n      <td>0</td>\n      <td>1-2 Year</td>\n      <td>Yes</td>\n      <td>2630.0</td>\n      <td>156.0</td>\n      <td>76</td>\n      <td>0</td>\n    </tr>\n    <tr>\n      <th>4</th>\n      <td>4</td>\n      <td>Female</td>\n      <td>36</td>\n      <td>1</td>\n      <td>15.0</td>\n      <td>1</td>\n      <td>1-2 Year</td>\n      <td>No</td>\n      <td>31951.0</td>\n      <td>152.0</td>\n      <td>294</td>\n      <td>0</td>\n    </tr>\n  </tbody>\n</table>\n</div>"
          },
          "metadata": {}
        }
      ]
    },
    {
      "cell_type": "code",
      "source": [
        "#Checking If training data is Imbalanced\n",
        "response_data = train['Response'].value_counts()\n",
        "plt.figure(figsize=(6,6))\n",
        "fig, ax = plt.subplots()\n",
        "ax.pie(response_data, labels = [0,1])\n",
        "ax.set_title('Checking Imbalance in Training Data Or Response')"
      ],
      "metadata": {
        "execution": {
          "iopub.status.busy": "2024-07-12T16:50:22.62251Z",
          "iopub.execute_input": "2024-07-12T16:50:22.623097Z",
          "iopub.status.idle": "2024-07-12T16:50:22.895399Z",
          "shell.execute_reply.started": "2024-07-12T16:50:22.623058Z",
          "shell.execute_reply": "2024-07-12T16:50:22.894234Z"
        },
        "trusted": true,
        "id": "Y0f9a04jilYK",
        "outputId": "d8d349a9-7a6f-4c2a-878f-83073e8df3ad"
      },
      "execution_count": null,
      "outputs": [
        {
          "execution_count": 3,
          "output_type": "execute_result",
          "data": {
            "text/plain": "Text(0.5, 1.0, 'Checking Imbalance in Training Data Or Response')"
          },
          "metadata": {}
        },
        {
          "output_type": "display_data",
          "data": {
            "text/plain": "<Figure size 600x600 with 0 Axes>"
          },
          "metadata": {}
        },
        {
          "output_type": "display_data",
          "data": {
            "text/plain": "<Figure size 640x480 with 1 Axes>",
            "image/png": "[encoded data removed]"
          },
          "metadata": {}
        }
      ]
    },
    {
      "cell_type": "code",
      "source": [
        "len(train[train['Response']==1])/len(train)"
      ],
      "metadata": {
        "execution": {
          "iopub.status.busy": "2024-07-12T16:50:22.897511Z",
          "iopub.execute_input": "2024-07-12T16:50:22.89842Z",
          "iopub.status.idle": "2024-07-12T16:50:23.161522Z",
          "shell.execute_reply.started": "2024-07-12T16:50:22.898356Z",
          "shell.execute_reply": "2024-07-12T16:50:23.160631Z"
        },
        "trusted": true,
        "id": "5aoDdHl_ilYL",
        "outputId": "01366b87-1d55-4972-88b3-ee2fa60cbabc"
      },
      "execution_count": null,
      "outputs": [
        {
          "execution_count": 4,
          "output_type": "execute_result",
          "data": {
            "text/plain": "0.12299729208631043"
          },
          "metadata": {}
        }
      ]
    },
    {
      "cell_type": "code",
      "source": [
        "train['Gender'] = np.where(train['Gender']=='Male',1,0)\n",
        "test['Gender'] = np.where(test['Gender']=='Male',1,0)\n",
        "\n",
        "train['Vehicle_Damage'] = np.where(train['Vehicle_Damage']=='Yes',1,0)\n",
        "test['Vehicle_Damage'] = np.where(test['Vehicle_Damage']=='Yes',1,0)\n",
        "\n",
        "train.head()"
      ],
      "metadata": {
        "execution": {
          "iopub.status.busy": "2024-07-12T16:50:23.164313Z",
          "iopub.execute_input": "2024-07-12T16:50:23.164759Z",
          "iopub.status.idle": "2024-07-12T16:50:29.603376Z",
          "shell.execute_reply.started": "2024-07-12T16:50:23.16473Z",
          "shell.execute_reply": "2024-07-12T16:50:29.602385Z"
        },
        "trusted": true,
        "id": "l_mcoY-2ilYM",
        "outputId": "511670fb-007c-4d25-f3ca-ce298f44f7a2"
      },
      "execution_count": null,
      "outputs": [
        {
          "execution_count": 5,
          "output_type": "execute_result",
          "data": {
            "text/plain": "   id  Gender  Age  Driving_License  Region_Code  Previously_Insured  \\\n0   0       1   21                1         35.0                   0   \n1   1       1   43                1         28.0                   0   \n2   2       0   25                1         14.0                   1   \n3   3       0   35                1          1.0                   0   \n4   4       0   36                1         15.0                   1   \n\n  Vehicle_Age  Vehicle_Damage  Annual_Premium  Policy_Sales_Channel  Vintage  \\\n0    1-2 Year               1         65101.0                 124.0      187   \n1   > 2 Years               1         58911.0                  26.0      288   \n2    < 1 Year               0         38043.0                 152.0      254   \n3    1-2 Year               1          2630.0                 156.0       76   \n4    1-2 Year               0         31951.0                 152.0      294   \n\n   Response  \n0         0  \n1         1  \n2         0  \n3         0  \n4         0  ",
            "text/html": "<div>\n<style scoped>\n    .dataframe tbody tr th:only-of-type {\n        vertical-align: middle;\n    }\n\n    .dataframe tbody tr th {\n        vertical-align: top;\n    }\n\n    .dataframe thead th {\n        text-align: right;\n    }\n</style>\n<table border=\"1\" class=\"dataframe\">\n  <thead>\n    <tr style=\"text-align: right;\">\n      <th></th>\n      <th>id</th>\n      <th>Gender</th>\n      <th>Age</th>\n      <th>Driving_License</th>\n      <th>Region_Code</th>\n      <th>Previously_Insured</th>\n      <th>Vehicle_Age</th>\n      <th>Vehicle_Damage</th>\n      <th>Annual_Premium</th>\n      <th>Policy_Sales_Channel</th>\n      <th>Vintage</th>\n      <th>Response</th>\n    </tr>\n  </thead>\n  <tbody>\n    <tr>\n      <th>0</th>\n      <td>0</td>\n      <td>1</td>\n      <td>21</td>\n      <td>1</td>\n      <td>35.0</td>\n      <td>0</td>\n      <td>1-2 Year</td>\n      <td>1</td>\n      <td>65101.0</td>\n      <td>124.0</td>\n      <td>187</td>\n      <td>0</td>\n    </tr>\n    <tr>\n      <th>1</th>\n      <td>1</td>\n      <td>1</td>\n      <td>43</td>\n      <td>1</td>\n      <td>28.0</td>\n      <td>0</td>\n      <td>&gt; 2 Years</td>\n      <td>1</td>\n      <td>58911.0</td>\n      <td>26.0</td>\n      <td>288</td>\n      <td>1</td>\n    </tr>\n    <tr>\n      <th>2</th>\n      <td>2</td>\n      <td>0</td>\n      <td>25</td>\n      <td>1</td>\n      <td>14.0</td>\n      <td>1</td>\n      <td>&lt; 1 Year</td>\n      <td>0</td>\n      <td>38043.0</td>\n      <td>152.0</td>\n      <td>254</td>\n      <td>0</td>\n    </tr>\n    <tr>\n      <th>3</th>\n      <td>3</td>\n      <td>0</td>\n      <td>35</td>\n      <td>1</td>\n      <td>1.0</td>\n      <td>0</td>\n      <td>1-2 Year</td>\n      <td>1</td>\n      <td>2630.0</td>\n      <td>156.0</td>\n      <td>76</td>\n      <td>0</td>\n    </tr>\n    <tr>\n      <th>4</th>\n      <td>4</td>\n      <td>0</td>\n      <td>36</td>\n      <td>1</td>\n      <td>15.0</td>\n      <td>1</td>\n      <td>1-2 Year</td>\n      <td>0</td>\n      <td>31951.0</td>\n      <td>152.0</td>\n      <td>294</td>\n      <td>0</td>\n    </tr>\n  </tbody>\n</table>\n</div>"
          },
          "metadata": {}
        }
      ]
    },
    {
      "cell_type": "code",
      "source": [
        "train['prefix'] = 'RC_'\n",
        "test['prefix'] = 'RC_'\n",
        "train['cat_Region_Code'] = train['prefix'] + train['Region_Code'].astype('int').astype('str')\n",
        "test['cat_Region_Code'] = test['prefix'] + test['Region_Code'].astype('int').astype('str')\n",
        "\n",
        "\n",
        "train['prefix'] = 'PSC_'\n",
        "test['prefix'] = 'PSC_'\n",
        "train['cat_Policy_Sales_Channel'] = train['prefix'] + train['Policy_Sales_Channel'].astype('int').astype('str')\n",
        "test['cat_Policy_Sales_Channel'] = test['prefix'] + test['Policy_Sales_Channel'].astype('int').astype('str')\n",
        "\n",
        "train['prefix'] = 'Vin_'\n",
        "test['prefix'] = 'Vin_'\n",
        "train['cat_Vintage'] = train['prefix'] + train['Vintage'].astype('int').astype('str')\n",
        "test['cat_Vintage'] = test['prefix'] + test['Vintage'].astype('int').astype('str')\n",
        "\n",
        "train = train.drop(columns = ['prefix'])\n",
        "test = test.drop(columns = ['prefix'])\n",
        "\n",
        "train.head()"
      ],
      "metadata": {
        "execution": {
          "iopub.status.busy": "2024-07-12T16:50:29.60471Z",
          "iopub.execute_input": "2024-07-12T16:50:29.605078Z",
          "iopub.status.idle": "2024-07-12T16:51:05.354447Z",
          "shell.execute_reply.started": "2024-07-12T16:50:29.605036Z",
          "shell.execute_reply": "2024-07-12T16:51:05.353517Z"
        },
        "trusted": true,
        "id": "hKqO4wK_ilYN",
        "outputId": "756aa972-c1af-4cb6-e7c8-236e196e2945"
      },
      "execution_count": null,
      "outputs": [
        {
          "execution_count": 6,
          "output_type": "execute_result",
          "data": {
            "text/plain": "   id  Gender  Age  Driving_License  Region_Code  Previously_Insured  \\\n0   0       1   21                1         35.0                   0   \n1   1       1   43                1         28.0                   0   \n2   2       0   25                1         14.0                   1   \n3   3       0   35                1          1.0                   0   \n4   4       0   36                1         15.0                   1   \n\n  Vehicle_Age  Vehicle_Damage  Annual_Premium  Policy_Sales_Channel  Vintage  \\\n0    1-2 Year               1         65101.0                 124.0      187   \n1   > 2 Years               1         58911.0                  26.0      288   \n2    < 1 Year               0         38043.0                 152.0      254   \n3    1-2 Year               1          2630.0                 156.0       76   \n4    1-2 Year               0         31951.0                 152.0      294   \n\n   Response cat_Region_Code cat_Policy_Sales_Channel cat_Vintage  \n0         0           RC_35                  PSC_124     Vin_187  \n1         1           RC_28                   PSC_26     Vin_288  \n2         0           RC_14                  PSC_152     Vin_254  \n3         0            RC_1                  PSC_156      Vin_76  \n4         0           RC_15                  PSC_152     Vin_294  ",
            "text/html": "<div>\n<style scoped>\n    .dataframe tbody tr th:only-of-type {\n        vertical-align: middle;\n    }\n\n    .dataframe tbody tr th {\n        vertical-align: top;\n    }\n\n    .dataframe thead th {\n        text-align: right;\n    }\n</style>\n<table border=\"1\" class=\"dataframe\">\n  <thead>\n    <tr style=\"text-align: right;\">\n      <th></th>\n      <th>id</th>\n      <th>Gender</th>\n      <th>Age</th>\n      <th>Driving_License</th>\n      <th>Region_Code</th>\n      <th>Previously_Insured</th>\n      <th>Vehicle_Age</th>\n      <th>Vehicle_Damage</th>\n      <th>Annual_Premium</th>\n      <th>Policy_Sales_Channel</th>\n      <th>Vintage</th>\n      <th>Response</th>\n      <th>cat_Region_Code</th>\n      <th>cat_Policy_Sales_Channel</th>\n      <th>cat_Vintage</th>\n    </tr>\n  </thead>\n  <tbody>\n    <tr>\n      <th>0</th>\n      <td>0</td>\n      <td>1</td>\n      <td>21</td>\n      <td>1</td>\n      <td>35.0</td>\n      <td>0</td>\n      <td>1-2 Year</td>\n      <td>1</td>\n      <td>65101.0</td>\n      <td>124.0</td>\n      <td>187</td>\n      <td>0</td>\n      <td>RC_35</td>\n      <td>PSC_124</td>\n      <td>Vin_187</td>\n    </tr>\n    <tr>\n      <th>1</th>\n      <td>1</td>\n      <td>1</td>\n      <td>43</td>\n      <td>1</td>\n      <td>28.0</td>\n      <td>0</td>\n      <td>&gt; 2 Years</td>\n      <td>1</td>\n      <td>58911.0</td>\n      <td>26.0</td>\n      <td>288</td>\n      <td>1</td>\n      <td>RC_28</td>\n      <td>PSC_26</td>\n      <td>Vin_288</td>\n    </tr>\n    <tr>\n      <th>2</th>\n      <td>2</td>\n      <td>0</td>\n      <td>25</td>\n      <td>1</td>\n      <td>14.0</td>\n      <td>1</td>\n      <td>&lt; 1 Year</td>\n      <td>0</td>\n      <td>38043.0</td>\n      <td>152.0</td>\n      <td>254</td>\n      <td>0</td>\n      <td>RC_14</td>\n      <td>PSC_152</td>\n      <td>Vin_254</td>\n    </tr>\n    <tr>\n      <th>3</th>\n      <td>3</td>\n      <td>0</td>\n      <td>35</td>\n      <td>1</td>\n      <td>1.0</td>\n      <td>0</td>\n      <td>1-2 Year</td>\n      <td>1</td>\n      <td>2630.0</td>\n      <td>156.0</td>\n      <td>76</td>\n      <td>0</td>\n      <td>RC_1</td>\n      <td>PSC_156</td>\n      <td>Vin_76</td>\n    </tr>\n    <tr>\n      <th>4</th>\n      <td>4</td>\n      <td>0</td>\n      <td>36</td>\n      <td>1</td>\n      <td>15.0</td>\n      <td>1</td>\n      <td>1-2 Year</td>\n      <td>0</td>\n      <td>31951.0</td>\n      <td>152.0</td>\n      <td>294</td>\n      <td>0</td>\n      <td>RC_15</td>\n      <td>PSC_152</td>\n      <td>Vin_294</td>\n    </tr>\n  </tbody>\n</table>\n</div>"
          },
          "metadata": {}
        }
      ]
    },
    {
      "cell_type": "code",
      "source": [
        "cat_columns = ['cat_Region_Code','cat_Policy_Sales_Channel','cat_Vintage','Vehicle_Age']"
      ],
      "metadata": {
        "execution": {
          "iopub.status.busy": "2024-07-12T16:51:05.355708Z",
          "iopub.execute_input": "2024-07-12T16:51:05.356023Z",
          "iopub.status.idle": "2024-07-12T16:51:05.360858Z",
          "shell.execute_reply.started": "2024-07-12T16:51:05.355995Z",
          "shell.execute_reply": "2024-07-12T16:51:05.359852Z"
        },
        "trusted": true,
        "id": "454StCxpilYN"
      },
      "execution_count": null,
      "outputs": []
    },
    {
      "cell_type": "markdown",
      "source": [
        "### Phase I Training Catboost and LGBM using categorical features\n",
        "\n",
        "1. The first trial is training with no further data wrangling and no further hyper-parameter optimization"
      ],
      "metadata": {
        "id": "y7A0FI4HilYO"
      }
    },
    {
      "cell_type": "code",
      "source": [
        "# df_train = train.iloc[: 2 * len(train) // 3]\n",
        "# df_test = train.iloc[2 * len(train) // 3 :]\n",
        "# train_pool = Pool(df_train.drop(columns = ['id','Region_Code','Policy_Sales_Channel','Vintage','Response']),\n",
        "#                   label=df_train.Response,\n",
        "#                   cat_features=cat_columns)\n",
        "# test_pool = Pool(df_test.drop(columns = ['id','Region_Code','Policy_Sales_Channel','Vintage','Response']),\n",
        "#                  label=df_test.Response,\n",
        "#                  cat_features=cat_columns)"
      ],
      "metadata": {
        "execution": {
          "iopub.status.busy": "2024-07-12T16:51:05.361847Z",
          "iopub.execute_input": "2024-07-12T16:51:05.362141Z",
          "iopub.status.idle": "2024-07-12T16:51:05.373439Z",
          "shell.execute_reply.started": "2024-07-12T16:51:05.362115Z",
          "shell.execute_reply": "2024-07-12T16:51:05.372589Z"
        },
        "trusted": true,
        "id": "tPXs2KbZilYO"
      },
      "execution_count": null,
      "outputs": []
    },
    {
      "cell_type": "code",
      "source": [
        "# Model Params 1.1\n",
        "\n",
        "# catboost_params = {\n",
        "#     'loss_function' : 'Logloss',\n",
        "#     'eval_metric' : 'AUC',\n",
        "#     'verbose' : 2000,\n",
        "#     'random_seed' : 42,\n",
        "#     'custom_metric' : 'AUC:hints=skip_train~false',\n",
        "#     'n_estimators' : 1000,\n",
        "#     'task_type' : \"GPU\"\n",
        "# }\n",
        "\n",
        "\n",
        "# Model Params 1.2, 2.1\n",
        "\n",
        "catboost_params = {\n",
        "     'loss_function':'Logloss',\n",
        "     'eval_metric':'AUC',\n",
        "     'learning_rate':0.05,\n",
        "     'depth':9,\n",
        "     'random_strength':0,\n",
        "     'l2_leaf_reg':0.5,\n",
        "     'task_type':'GPU',\n",
        "     'random_seed':42,\n",
        "     'verbose' : 1000,\n",
        "     'early_stopping_rounds':200\n",
        " }\n",
        "\n",
        "# cat_model = CatBoostClassifier(**catboost_params)\n",
        "# cat_model.fit(train_pool, eval_set=test_pool, use_best_model = True, plot=True)"
      ],
      "metadata": {
        "execution": {
          "iopub.status.busy": "2024-07-12T16:51:05.374679Z",
          "iopub.execute_input": "2024-07-12T16:51:05.375001Z",
          "iopub.status.idle": "2024-07-12T16:51:05.383899Z",
          "shell.execute_reply.started": "2024-07-12T16:51:05.374972Z",
          "shell.execute_reply": "2024-07-12T16:51:05.383073Z"
        },
        "trusted": true,
        "id": "NtM550YmilYP"
      },
      "execution_count": null,
      "outputs": []
    },
    {
      "cell_type": "code",
      "source": [
        "# cat_train_pred = cat_model.predict_proba(df_train.drop(columns = ['id','Region_Code','Policy_Sales_Channel','Vintage','Response']))[:,1]\n",
        "# cat_test_pred = cat_model.predict_proba(df_test.drop(columns = ['id','Region_Code','Policy_Sales_Channel','Vintage','Response']))[:,1]\n",
        "# print(roc_auc_score(df_train.Response,cat_train_pred))\n",
        "# print(roc_auc_score(df_test.Response,cat_test_pred))"
      ],
      "metadata": {
        "execution": {
          "iopub.status.busy": "2024-07-12T16:51:05.385157Z",
          "iopub.execute_input": "2024-07-12T16:51:05.385417Z",
          "iopub.status.idle": "2024-07-12T16:51:05.397189Z",
          "shell.execute_reply.started": "2024-07-12T16:51:05.385394Z",
          "shell.execute_reply": "2024-07-12T16:51:05.39638Z"
        },
        "trusted": true,
        "id": "QwLC00fZilYP"
      },
      "execution_count": null,
      "outputs": []
    },
    {
      "cell_type": "markdown",
      "source": [
        "### Phase II Sampling"
      ],
      "metadata": {
        "id": "uy0LcUSOilYS"
      }
    },
    {
      "cell_type": "code",
      "source": [
        "df_train = train.iloc[: 4 * len(train) // 5]\n",
        "df_test = train.iloc[4 * len(train) // 5 :]\n",
        "test_pool = Pool(df_test.drop(columns = ['id','Region_Code','Policy_Sales_Channel','Vintage','Response']),\n",
        "                 label=df_test.Response,\n",
        "                 cat_features=cat_columns)\n",
        "oversample = df_train[df_train['Response']==1]\n",
        "num = len(oversample)\n",
        "\n",
        "cat_train_pred = []\n",
        "cat_test_pred = []\n",
        "test_pred = []\n",
        "\n",
        "for i in range(1):\n",
        "    undersample = df_train[df_train['Response']==0]\n",
        "    undersample = undersample.sample(n = num, random_state = 42)\n",
        "    train_df = pd.concat([oversample,undersample]).sample(frac = 1,\n",
        "                                                         random_state = 42).reset_index().drop(columns = ['index'])\n",
        "    train_pool = Pool(train_df.drop(columns = ['id','Region_Code','Policy_Sales_Channel','Vintage','Response']),\n",
        "                  label=train_df.Response,\n",
        "                  cat_features=cat_columns)\n",
        "    cat_model = CatBoostClassifier(**catboost_params)\n",
        "    cat_model.fit(train_pool, eval_set=test_pool, use_best_model = True, plot=True)\n",
        "    cat_train_pred.append(cat_model.predict_proba(train_df.drop(columns = ['id','Region_Code','Policy_Sales_Channel','Vintage','Response']))[:,1])\n",
        "    cat_test_pred.append(cat_model.predict_proba(df_test.drop(columns = ['id','Region_Code','Policy_Sales_Channel','Vintage','Response']))[:,1])\n",
        "    test_pred.append(cat_model.predict_proba(test.drop(columns = ['id','Region_Code','Policy_Sales_Channel','Vintage']))[:,1])"
      ],
      "metadata": {
        "execution": {
          "iopub.status.busy": "2024-07-12T16:52:04.234992Z",
          "iopub.execute_input": "2024-07-12T16:52:04.235359Z",
          "iopub.status.idle": "2024-07-12T16:58:55.000444Z",
          "shell.execute_reply.started": "2024-07-12T16:52:04.235324Z",
          "shell.execute_reply": "2024-07-12T16:58:54.998528Z"
        },
        "trusted": true,
        "id": "Mevjgz_2ilYS",
        "outputId": "fd907409-8971-45c2-d879-fe494249b903",
        "colab": {
          "referenced_widgets": [
            "b496fac19b1c48e681a0fbf8b151569e"
          ]
        }
      },
      "execution_count": null,
      "outputs": [
        {
          "output_type": "display_data",
          "data": {
            "text/plain": "MetricVisualizer(layout=Layout(align_self='stretch', height='500px'))",
            "application/vnd.jupyter.widget-view+json": {
              "version_major": 2,
              "version_minor": 0,
              "model_id": "b496fac19b1c48e681a0fbf8b151569e"
            }
          },
          "metadata": {}
        },
        {
          "name": "stderr",
          "text": "Default metric period is 5 because AUC is/are not implemented for GPU\n",
          "output_type": "stream"
        },
        {
          "name": "stdout",
          "text": "0:\ttest: 0.8632886\tbest: 0.8632886 (0)\ttotal: 456ms\tremaining: 7m 35s\n999:\ttest: 0.8802785\tbest: 0.8802785 (999)\ttotal: 6m 14s\tremaining: 0us\nbestTest = 0.8802784681\nbestIteration = 999\n",
          "output_type": "stream"
        },
        {
          "traceback": [
            "\u001b[0;31m---------------------------------------------------------------------------\u001b[0m",
            "\u001b[0;31mTypeError\u001b[0m                                 Traceback (most recent call last)",
            "File \u001b[0;32m_catboost.pyx:2383\u001b[0m, in \u001b[0;36m_catboost.get_float_feature\u001b[0;34m()\u001b[0m\n",
            "File \u001b[0;32m_catboost.pyx:1188\u001b[0m, in \u001b[0;36m_catboost._FloatOrNan\u001b[0;34m()\u001b[0m\n",
            "File \u001b[0;32m_catboost.pyx:983\u001b[0m, in \u001b[0;36m_catboost._FloatOrNanFromString\u001b[0;34m()\u001b[0m\n",
            "\u001b[0;31mTypeError\u001b[0m: Cannot convert 'b'Vin_197'' to float",
            "\nDuring handling of the above exception, another exception occurred:\n",
            "\u001b[0;31mCatBoostError\u001b[0m                             Traceback (most recent call last)",
            "Cell \u001b[0;32mIn[12], line 23\u001b[0m\n\u001b[1;32m     21\u001b[0m cat_model \u001b[38;5;241m=\u001b[39m CatBoostClassifier(\u001b[38;5;241m*\u001b[39m\u001b[38;5;241m*\u001b[39mcatboost_params)\n\u001b[1;32m     22\u001b[0m cat_model\u001b[38;5;241m.\u001b[39mfit(train_pool, eval_set\u001b[38;5;241m=\u001b[39mtest_pool, use_best_model \u001b[38;5;241m=\u001b[39m \u001b[38;5;28;01mTrue\u001b[39;00m, plot\u001b[38;5;241m=\u001b[39m\u001b[38;5;28;01mTrue\u001b[39;00m)\n\u001b[0;32m---> 23\u001b[0m cat_train_pred\u001b[38;5;241m.\u001b[39mappend(\u001b[43mcat_model\u001b[49m\u001b[38;5;241;43m.\u001b[39;49m\u001b[43mpredict_proba\u001b[49m\u001b[43m(\u001b[49m\u001b[43mtrain_df\u001b[49m\u001b[38;5;241;43m.\u001b[39;49m\u001b[43mdrop\u001b[49m\u001b[43m(\u001b[49m\u001b[43mcolumns\u001b[49m\u001b[43m \u001b[49m\u001b[38;5;241;43m=\u001b[39;49m\u001b[43m \u001b[49m\u001b[43m[\u001b[49m\u001b[38;5;124;43m'\u001b[39;49m\u001b[38;5;124;43mid\u001b[39;49m\u001b[38;5;124;43m'\u001b[39;49m\u001b[43m,\u001b[49m\u001b[38;5;124;43m'\u001b[39;49m\u001b[38;5;124;43mRegion_Code\u001b[39;49m\u001b[38;5;124;43m'\u001b[39;49m\u001b[43m,\u001b[49m\u001b[38;5;124;43m'\u001b[39;49m\u001b[38;5;124;43mPolicy_Sales_Channel\u001b[39;49m\u001b[38;5;124;43m'\u001b[39;49m\u001b[43m,\u001b[49m\u001b[38;5;124;43m'\u001b[39;49m\u001b[38;5;124;43mVintage\u001b[39;49m\u001b[38;5;124;43m'\u001b[39;49m\u001b[43m]\u001b[49m\u001b[43m)\u001b[49m\u001b[43m)\u001b[49m[:,\u001b[38;5;241m1\u001b[39m])\n\u001b[1;32m     24\u001b[0m cat_test_pred\u001b[38;5;241m.\u001b[39mappend(cat_model\u001b[38;5;241m.\u001b[39mpredict_proba(df_test\u001b[38;5;241m.\u001b[39mdrop(columns \u001b[38;5;241m=\u001b[39m [\u001b[38;5;124m'\u001b[39m\u001b[38;5;124mid\u001b[39m\u001b[38;5;124m'\u001b[39m,\u001b[38;5;124m'\u001b[39m\u001b[38;5;124mRegion_Code\u001b[39m\u001b[38;5;124m'\u001b[39m,\u001b[38;5;124m'\u001b[39m\u001b[38;5;124mPolicy_Sales_Channel\u001b[39m\u001b[38;5;124m'\u001b[39m,\u001b[38;5;124m'\u001b[39m\u001b[38;5;124mVintage\u001b[39m\u001b[38;5;124m'\u001b[39m]))[:,\u001b[38;5;241m1\u001b[39m])\n\u001b[1;32m     25\u001b[0m test_pred\u001b[38;5;241m.\u001b[39mappend(cat_model\u001b[38;5;241m.\u001b[39mpredict_proba(test\u001b[38;5;241m.\u001b[39mdrop(columns \u001b[38;5;241m=\u001b[39m [\u001b[38;5;124m'\u001b[39m\u001b[38;5;124mid\u001b[39m\u001b[38;5;124m'\u001b[39m,\u001b[38;5;124m'\u001b[39m\u001b[38;5;124mRegion_Code\u001b[39m\u001b[38;5;124m'\u001b[39m,\u001b[38;5;124m'\u001b[39m\u001b[38;5;124mPolicy_Sales_Channel\u001b[39m\u001b[38;5;124m'\u001b[39m,\u001b[38;5;124m'\u001b[39m\u001b[38;5;124mVintage\u001b[39m\u001b[38;5;124m'\u001b[39m]))[:,\u001b[38;5;241m1\u001b[39m])\n",
            "File \u001b[0;32m/opt/conda/lib/python3.10/site-packages/catboost/core.py:5314\u001b[0m, in \u001b[0;36mCatBoostClassifier.predict_proba\u001b[0;34m(self, X, ntree_start, ntree_end, thread_count, verbose, task_type)\u001b[0m\n\u001b[1;32m   5278\u001b[0m \u001b[38;5;28;01mdef\u001b[39;00m \u001b[38;5;21mpredict_proba\u001b[39m(\u001b[38;5;28mself\u001b[39m, X, ntree_start\u001b[38;5;241m=\u001b[39m\u001b[38;5;241m0\u001b[39m, ntree_end\u001b[38;5;241m=\u001b[39m\u001b[38;5;241m0\u001b[39m, thread_count\u001b[38;5;241m=\u001b[39m\u001b[38;5;241m-\u001b[39m\u001b[38;5;241m1\u001b[39m, verbose\u001b[38;5;241m=\u001b[39m\u001b[38;5;28;01mNone\u001b[39;00m, task_type\u001b[38;5;241m=\u001b[39m\u001b[38;5;124m\"\u001b[39m\u001b[38;5;124mCPU\u001b[39m\u001b[38;5;124m\"\u001b[39m):\n\u001b[1;32m   5279\u001b[0m \u001b[38;5;250m    \u001b[39m\u001b[38;5;124;03m\"\"\"\u001b[39;00m\n\u001b[1;32m   5280\u001b[0m \u001b[38;5;124;03m    Predict class probability with X.\u001b[39;00m\n\u001b[1;32m   5281\u001b[0m \n\u001b[0;32m   (...)\u001b[0m\n\u001b[1;32m   5312\u001b[0m \u001b[38;5;124;03m            with probability for every class for each object.\u001b[39;00m\n\u001b[1;32m   5313\u001b[0m \u001b[38;5;124;03m    \"\"\"\u001b[39;00m\n\u001b[0;32m-> 5314\u001b[0m     \u001b[38;5;28;01mreturn\u001b[39;00m \u001b[38;5;28;43mself\u001b[39;49m\u001b[38;5;241;43m.\u001b[39;49m\u001b[43m_predict\u001b[49m\u001b[43m(\u001b[49m\u001b[43mX\u001b[49m\u001b[43m,\u001b[49m\u001b[43m \u001b[49m\u001b[38;5;124;43m'\u001b[39;49m\u001b[38;5;124;43mProbability\u001b[39;49m\u001b[38;5;124;43m'\u001b[39;49m\u001b[43m,\u001b[49m\u001b[43m \u001b[49m\u001b[43mntree_start\u001b[49m\u001b[43m,\u001b[49m\u001b[43m \u001b[49m\u001b[43mntree_end\u001b[49m\u001b[43m,\u001b[49m\u001b[43m \u001b[49m\u001b[43mthread_count\u001b[49m\u001b[43m,\u001b[49m\u001b[43m \u001b[49m\u001b[43mverbose\u001b[49m\u001b[43m,\u001b[49m\u001b[43m \u001b[49m\u001b[38;5;124;43m'\u001b[39;49m\u001b[38;5;124;43mpredict_proba\u001b[39;49m\u001b[38;5;124;43m'\u001b[39;49m\u001b[43m,\u001b[49m\u001b[43m \u001b[49m\u001b[43mtask_type\u001b[49m\u001b[43m)\u001b[49m\n",
            "File \u001b[0;32m/opt/conda/lib/python3.10/site-packages/catboost/core.py:2605\u001b[0m, in \u001b[0;36mCatBoost._predict\u001b[0;34m(self, data, prediction_type, ntree_start, ntree_end, thread_count, verbose, parent_method_name, task_type)\u001b[0m\n\u001b[1;32m   2603\u001b[0m \u001b[38;5;28;01mif\u001b[39;00m verbose \u001b[38;5;129;01mis\u001b[39;00m \u001b[38;5;28;01mNone\u001b[39;00m:\n\u001b[1;32m   2604\u001b[0m     verbose \u001b[38;5;241m=\u001b[39m \u001b[38;5;28;01mFalse\u001b[39;00m\n\u001b[0;32m-> 2605\u001b[0m data, data_is_single_object \u001b[38;5;241m=\u001b[39m \u001b[38;5;28;43mself\u001b[39;49m\u001b[38;5;241;43m.\u001b[39;49m\u001b[43m_process_predict_input_data\u001b[49m\u001b[43m(\u001b[49m\u001b[43mdata\u001b[49m\u001b[43m,\u001b[49m\u001b[43m \u001b[49m\u001b[43mparent_method_name\u001b[49m\u001b[43m,\u001b[49m\u001b[43m \u001b[49m\u001b[43mthread_count\u001b[49m\u001b[43m)\u001b[49m\n\u001b[1;32m   2606\u001b[0m \u001b[38;5;28mself\u001b[39m\u001b[38;5;241m.\u001b[39m_validate_prediction_type(prediction_type)\n\u001b[1;32m   2608\u001b[0m predictions \u001b[38;5;241m=\u001b[39m \u001b[38;5;28mself\u001b[39m\u001b[38;5;241m.\u001b[39m_base_predict(data, prediction_type, ntree_start, ntree_end, thread_count, verbose, task_type)\n",
            "File \u001b[0;32m/opt/conda/lib/python3.10/site-packages/catboost/core.py:2585\u001b[0m, in \u001b[0;36mCatBoost._process_predict_input_data\u001b[0;34m(self, data, parent_method_name, thread_count, label)\u001b[0m\n\u001b[1;32m   2583\u001b[0m is_single_object \u001b[38;5;241m=\u001b[39m _is_data_single_object(data)\n\u001b[1;32m   2584\u001b[0m \u001b[38;5;28;01mif\u001b[39;00m \u001b[38;5;129;01mnot\u001b[39;00m \u001b[38;5;28misinstance\u001b[39m(data, Pool):\n\u001b[0;32m-> 2585\u001b[0m     data \u001b[38;5;241m=\u001b[39m \u001b[43mPool\u001b[49m\u001b[43m(\u001b[49m\n\u001b[1;32m   2586\u001b[0m \u001b[43m        \u001b[49m\u001b[43mdata\u001b[49m\u001b[38;5;241;43m=\u001b[39;49m\u001b[43m[\u001b[49m\u001b[43mdata\u001b[49m\u001b[43m]\u001b[49m\u001b[43m \u001b[49m\u001b[38;5;28;43;01mif\u001b[39;49;00m\u001b[43m \u001b[49m\u001b[43mis_single_object\u001b[49m\u001b[43m \u001b[49m\u001b[38;5;28;43;01melse\u001b[39;49;00m\u001b[43m \u001b[49m\u001b[43mdata\u001b[49m\u001b[43m,\u001b[49m\n\u001b[1;32m   2587\u001b[0m \u001b[43m        \u001b[49m\u001b[43mlabel\u001b[49m\u001b[38;5;241;43m=\u001b[39;49m\u001b[43mlabel\u001b[49m\u001b[43m,\u001b[49m\n\u001b[1;32m   2588\u001b[0m \u001b[43m        \u001b[49m\u001b[43mcat_features\u001b[49m\u001b[38;5;241;43m=\u001b[39;49m\u001b[38;5;28;43mself\u001b[39;49m\u001b[38;5;241;43m.\u001b[39;49m\u001b[43m_get_cat_feature_indices\u001b[49m\u001b[43m(\u001b[49m\u001b[43m)\u001b[49m\u001b[43m \u001b[49m\u001b[38;5;28;43;01mif\u001b[39;49;00m\u001b[43m \u001b[49m\u001b[38;5;129;43;01mnot\u001b[39;49;00m\u001b[43m \u001b[49m\u001b[38;5;28;43misinstance\u001b[39;49m\u001b[43m(\u001b[49m\u001b[43mdata\u001b[49m\u001b[43m,\u001b[49m\u001b[43m \u001b[49m\u001b[43mFeaturesData\u001b[49m\u001b[43m)\u001b[49m\u001b[43m \u001b[49m\u001b[38;5;28;43;01melse\u001b[39;49;00m\u001b[43m \u001b[49m\u001b[38;5;28;43;01mNone\u001b[39;49;00m\u001b[43m,\u001b[49m\n\u001b[1;32m   2589\u001b[0m \u001b[43m        \u001b[49m\u001b[43mtext_features\u001b[49m\u001b[38;5;241;43m=\u001b[39;49m\u001b[38;5;28;43mself\u001b[39;49m\u001b[38;5;241;43m.\u001b[39;49m\u001b[43m_get_text_feature_indices\u001b[49m\u001b[43m(\u001b[49m\u001b[43m)\u001b[49m\u001b[43m \u001b[49m\u001b[38;5;28;43;01mif\u001b[39;49;00m\u001b[43m \u001b[49m\u001b[38;5;129;43;01mnot\u001b[39;49;00m\u001b[43m \u001b[49m\u001b[38;5;28;43misinstance\u001b[39;49m\u001b[43m(\u001b[49m\u001b[43mdata\u001b[49m\u001b[43m,\u001b[49m\u001b[43m \u001b[49m\u001b[43mFeaturesData\u001b[49m\u001b[43m)\u001b[49m\u001b[43m \u001b[49m\u001b[38;5;28;43;01melse\u001b[39;49;00m\u001b[43m \u001b[49m\u001b[38;5;28;43;01mNone\u001b[39;49;00m\u001b[43m,\u001b[49m\n\u001b[1;32m   2590\u001b[0m \u001b[43m        \u001b[49m\u001b[43membedding_features\u001b[49m\u001b[38;5;241;43m=\u001b[39;49m\u001b[38;5;28;43mself\u001b[39;49m\u001b[38;5;241;43m.\u001b[39;49m\u001b[43m_get_embedding_feature_indices\u001b[49m\u001b[43m(\u001b[49m\u001b[43m)\u001b[49m\u001b[43m \u001b[49m\u001b[38;5;28;43;01mif\u001b[39;49;00m\u001b[43m \u001b[49m\u001b[38;5;129;43;01mnot\u001b[39;49;00m\u001b[43m \u001b[49m\u001b[38;5;28;43misinstance\u001b[39;49m\u001b[43m(\u001b[49m\u001b[43mdata\u001b[49m\u001b[43m,\u001b[49m\u001b[43m \u001b[49m\u001b[43mFeaturesData\u001b[49m\u001b[43m)\u001b[49m\u001b[43m \u001b[49m\u001b[38;5;28;43;01melse\u001b[39;49;00m\u001b[43m \u001b[49m\u001b[38;5;28;43;01mNone\u001b[39;49;00m\u001b[43m,\u001b[49m\n\u001b[1;32m   2591\u001b[0m \u001b[43m        \u001b[49m\u001b[43mthread_count\u001b[49m\u001b[38;5;241;43m=\u001b[39;49m\u001b[43mthread_count\u001b[49m\n\u001b[1;32m   2592\u001b[0m \u001b[43m    \u001b[49m\u001b[43m)\u001b[49m\n\u001b[1;32m   2593\u001b[0m \u001b[38;5;28;01mreturn\u001b[39;00m data, is_single_object\n",
            "File \u001b[0;32m/opt/conda/lib/python3.10/site-packages/catboost/core.py:848\u001b[0m, in \u001b[0;36mPool.__init__\u001b[0;34m(self, data, label, cat_features, text_features, embedding_features, embedding_features_data, column_description, pairs, delimiter, has_header, ignore_csv_quoting, weight, group_id, group_weight, subgroup_id, pairs_weight, baseline, timestamp, feature_names, feature_tags, thread_count, log_cout, log_cerr, data_can_be_none)\u001b[0m\n\u001b[1;32m    842\u001b[0m         \u001b[38;5;28;01mif\u001b[39;00m \u001b[38;5;28misinstance\u001b[39m(feature_names, PATH_TYPES):\n\u001b[1;32m    843\u001b[0m             \u001b[38;5;28;01mraise\u001b[39;00m CatBoostError(\n\u001b[1;32m    844\u001b[0m                 \u001b[38;5;124m\"\u001b[39m\u001b[38;5;124mfeature_names must be None or have non-string type when the pool is created from \u001b[39m\u001b[38;5;124m\"\u001b[39m\n\u001b[1;32m    845\u001b[0m                 \u001b[38;5;124m\"\u001b[39m\u001b[38;5;124mpython objects.\u001b[39m\u001b[38;5;124m\"\u001b[39m\n\u001b[1;32m    846\u001b[0m             )\n\u001b[0;32m--> 848\u001b[0m         \u001b[38;5;28;43mself\u001b[39;49m\u001b[38;5;241;43m.\u001b[39;49m\u001b[43m_init\u001b[49m\u001b[43m(\u001b[49m\u001b[43mdata\u001b[49m\u001b[43m,\u001b[49m\u001b[43m \u001b[49m\u001b[43mlabel\u001b[49m\u001b[43m,\u001b[49m\u001b[43m \u001b[49m\u001b[43mcat_features\u001b[49m\u001b[43m,\u001b[49m\u001b[43m \u001b[49m\u001b[43mtext_features\u001b[49m\u001b[43m,\u001b[49m\u001b[43m \u001b[49m\u001b[43membedding_features\u001b[49m\u001b[43m,\u001b[49m\u001b[43m \u001b[49m\u001b[43membedding_features_data\u001b[49m\u001b[43m,\u001b[49m\u001b[43m \u001b[49m\u001b[43mpairs\u001b[49m\u001b[43m,\u001b[49m\u001b[43m \u001b[49m\u001b[43mweight\u001b[49m\u001b[43m,\u001b[49m\n\u001b[1;32m    849\u001b[0m \u001b[43m                   \u001b[49m\u001b[43mgroup_id\u001b[49m\u001b[43m,\u001b[49m\u001b[43m \u001b[49m\u001b[43mgroup_weight\u001b[49m\u001b[43m,\u001b[49m\u001b[43m \u001b[49m\u001b[43msubgroup_id\u001b[49m\u001b[43m,\u001b[49m\u001b[43m \u001b[49m\u001b[43mpairs_weight\u001b[49m\u001b[43m,\u001b[49m\u001b[43m \u001b[49m\u001b[43mbaseline\u001b[49m\u001b[43m,\u001b[49m\u001b[43m \u001b[49m\u001b[43mtimestamp\u001b[49m\u001b[43m,\u001b[49m\u001b[43m \u001b[49m\u001b[43mfeature_names\u001b[49m\u001b[43m,\u001b[49m\u001b[43m \u001b[49m\u001b[43mfeature_tags\u001b[49m\u001b[43m,\u001b[49m\u001b[43m \u001b[49m\u001b[43mthread_count\u001b[49m\u001b[43m)\u001b[49m\n\u001b[1;32m    850\u001b[0m \u001b[38;5;28;01melif\u001b[39;00m \u001b[38;5;129;01mnot\u001b[39;00m data_can_be_none:\n\u001b[1;32m    851\u001b[0m     \u001b[38;5;28;01mraise\u001b[39;00m CatBoostError(\u001b[38;5;124m\"\u001b[39m\u001b[38;5;124m'\u001b[39m\u001b[38;5;124mdata\u001b[39m\u001b[38;5;124m'\u001b[39m\u001b[38;5;124m parameter can\u001b[39m\u001b[38;5;124m'\u001b[39m\u001b[38;5;124mt be None\u001b[39m\u001b[38;5;124m\"\u001b[39m)\n",
            "File \u001b[0;32m/opt/conda/lib/python3.10/site-packages/catboost/core.py:1481\u001b[0m, in \u001b[0;36mPool._init\u001b[0;34m(self, data, label, cat_features, text_features, embedding_features, embedding_features_data, pairs, weight, group_id, group_weight, subgroup_id, pairs_weight, baseline, timestamp, feature_names, feature_tags, thread_count)\u001b[0m\n\u001b[1;32m   1479\u001b[0m \u001b[38;5;28;01mif\u001b[39;00m feature_tags \u001b[38;5;129;01mis\u001b[39;00m \u001b[38;5;129;01mnot\u001b[39;00m \u001b[38;5;28;01mNone\u001b[39;00m:\n\u001b[1;32m   1480\u001b[0m     feature_tags \u001b[38;5;241m=\u001b[39m \u001b[38;5;28mself\u001b[39m\u001b[38;5;241m.\u001b[39m_check_transform_tags(feature_tags, feature_names)\n\u001b[0;32m-> 1481\u001b[0m \u001b[38;5;28;43mself\u001b[39;49m\u001b[38;5;241;43m.\u001b[39;49m\u001b[43m_init_pool\u001b[49m\u001b[43m(\u001b[49m\u001b[43mdata\u001b[49m\u001b[43m,\u001b[49m\u001b[43m \u001b[49m\u001b[43mlabel\u001b[49m\u001b[43m,\u001b[49m\u001b[43m \u001b[49m\u001b[43mcat_features\u001b[49m\u001b[43m,\u001b[49m\u001b[43m \u001b[49m\u001b[43mtext_features\u001b[49m\u001b[43m,\u001b[49m\u001b[43m \u001b[49m\u001b[43membedding_features\u001b[49m\u001b[43m,\u001b[49m\u001b[43m \u001b[49m\u001b[43membedding_features_data\u001b[49m\u001b[43m,\u001b[49m\u001b[43m \u001b[49m\u001b[43mpairs\u001b[49m\u001b[43m,\u001b[49m\u001b[43m \u001b[49m\u001b[43mweight\u001b[49m\u001b[43m,\u001b[49m\n\u001b[1;32m   1482\u001b[0m \u001b[43m                \u001b[49m\u001b[43mgroup_id\u001b[49m\u001b[43m,\u001b[49m\u001b[43m \u001b[49m\u001b[43mgroup_weight\u001b[49m\u001b[43m,\u001b[49m\u001b[43m \u001b[49m\u001b[43msubgroup_id\u001b[49m\u001b[43m,\u001b[49m\u001b[43m \u001b[49m\u001b[43mpairs_weight\u001b[49m\u001b[43m,\u001b[49m\u001b[43m \u001b[49m\u001b[43mbaseline\u001b[49m\u001b[43m,\u001b[49m\u001b[43m \u001b[49m\u001b[43mtimestamp\u001b[49m\u001b[43m,\u001b[49m\u001b[43m \u001b[49m\u001b[43mfeature_names\u001b[49m\u001b[43m,\u001b[49m\u001b[43m \u001b[49m\u001b[43mfeature_tags\u001b[49m\u001b[43m,\u001b[49m\u001b[43m \u001b[49m\u001b[43mthread_count\u001b[49m\u001b[43m)\u001b[49m\n",
            "File \u001b[0;32m_catboost.pyx:4159\u001b[0m, in \u001b[0;36m_catboost._PoolBase._init_pool\u001b[0;34m()\u001b[0m\n",
            "File \u001b[0;32m_catboost.pyx:4209\u001b[0m, in \u001b[0;36m_catboost._PoolBase._init_pool\u001b[0;34m()\u001b[0m\n",
            "File \u001b[0;32m_catboost.pyx:4025\u001b[0m, in \u001b[0;36m_catboost._PoolBase._init_features_order_layout_pool\u001b[0;34m()\u001b[0m\n",
            "File \u001b[0;32m_catboost.pyx:2963\u001b[0m, in \u001b[0;36m_catboost._set_features_order_data_pd_data_frame\u001b[0;34m()\u001b[0m\n",
            "File \u001b[0;32m_catboost.pyx:2427\u001b[0m, in \u001b[0;36m_catboost.create_num_factor_data\u001b[0;34m()\u001b[0m\n",
            "File \u001b[0;32m_catboost.pyx:2385\u001b[0m, in \u001b[0;36m_catboost.get_float_feature\u001b[0;34m()\u001b[0m\n",
            "\u001b[0;31mCatBoostError\u001b[0m: Bad value for num_feature[non_default_doc_idx=0,feature_idx=10]=\"Vin_197\": Cannot convert 'b'Vin_197'' to float"
          ],
          "ename": "CatBoostError",
          "evalue": "Bad value for num_feature[non_default_doc_idx=0,feature_idx=10]=\"Vin_197\": Cannot convert 'b'Vin_197'' to float",
          "output_type": "error"
        }
      ]
    },
    {
      "cell_type": "code",
      "source": [
        "for i in range(1):\n",
        "    cat_train_pred.append(cat_model.predict_proba(train_df.drop(columns = ['id','Region_Code','Policy_Sales_Channel','Vintage','Response']))[:,1])\n",
        "    cat_test_pred.append(cat_model.predict_proba(df_test.drop(columns = ['id','Region_Code','Policy_Sales_Channel','Vintage','Response']))[:,1])\n",
        "    test_pred.append(cat_model.predict_proba(test.drop(columns = ['id','Region_Code','Policy_Sales_Channel','Vintage']))[:,1])\n",
        "    print(f'For model {i} the ROC AUC Scores are as follows:')\n",
        "    print(f\"The roc auc score for training data is: {roc_auc_score(train_df['Response'],cat_train_pred[i])}\")\n",
        "    print(f\"The roc auc score for test data is: {roc_auc_score(df_test['Response'],cat_test_pred[i])}\")"
      ],
      "metadata": {
        "execution": {
          "iopub.status.busy": "2024-07-12T17:00:20.78457Z",
          "iopub.execute_input": "2024-07-12T17:00:20.784941Z",
          "iopub.status.idle": "2024-07-12T17:03:18.505499Z",
          "shell.execute_reply.started": "2024-07-12T17:00:20.784915Z",
          "shell.execute_reply": "2024-07-12T17:03:18.504514Z"
        },
        "trusted": true,
        "id": "Ysys0TTIilYT",
        "outputId": "b91bf5cf-d118-41e1-e68c-fcadd4adae63"
      },
      "execution_count": null,
      "outputs": [
        {
          "name": "stdout",
          "text": "For model 0 the ROC AUC Scores are as follows:\nThe roc auc score for training data is: 0.8839069971498734\nThe roc auc score for test data is: 0.8802783888783805\n",
          "output_type": "stream"
        }
      ]
    },
    {
      "cell_type": "code",
      "source": [
        "# test_pred = cat_model.predict_proba(test.drop(columns = ['id','Region_Code','Policy_Sales_Channel','Vintage']))[:,1]\n",
        "# sample_submission['Response'] = test_pred\n",
        "sample_submission['Response'] = test_pred[i]\n",
        "sample_submission.to_csv('catboost_cat_no_optimization.csv', index = False)\n",
        "sample_submission.head()"
      ],
      "metadata": {
        "execution": {
          "iopub.status.busy": "2024-07-12T17:03:31.2614Z",
          "iopub.execute_input": "2024-07-12T17:03:31.262219Z",
          "iopub.status.idle": "2024-07-12T17:03:53.00658Z",
          "shell.execute_reply.started": "2024-07-12T17:03:31.262186Z",
          "shell.execute_reply": "2024-07-12T17:03:53.00561Z"
        },
        "trusted": true,
        "id": "ZPqpPv8wilYT",
        "outputId": "710ed8da-d982-4179-8cab-04591a482b0a"
      },
      "execution_count": null,
      "outputs": [
        {
          "execution_count": 14,
          "output_type": "execute_result",
          "data": {
            "text/plain": "         id  Response\n0  11504798  0.040379\n1  11504799  0.840616\n2  11504800  0.695931\n3  11504801  0.000848\n4  11504802  0.270128",
            "text/html": "<div>\n<style scoped>\n    .dataframe tbody tr th:only-of-type {\n        vertical-align: middle;\n    }\n\n    .dataframe tbody tr th {\n        vertical-align: top;\n    }\n\n    .dataframe thead th {\n        text-align: right;\n    }\n</style>\n<table border=\"1\" class=\"dataframe\">\n  <thead>\n    <tr style=\"text-align: right;\">\n      <th></th>\n      <th>id</th>\n      <th>Response</th>\n    </tr>\n  </thead>\n  <tbody>\n    <tr>\n      <th>0</th>\n      <td>11504798</td>\n      <td>0.040379</td>\n    </tr>\n    <tr>\n      <th>1</th>\n      <td>11504799</td>\n      <td>0.840616</td>\n    </tr>\n    <tr>\n      <th>2</th>\n      <td>11504800</td>\n      <td>0.695931</td>\n    </tr>\n    <tr>\n      <th>3</th>\n      <td>11504801</td>\n      <td>0.000848</td>\n    </tr>\n    <tr>\n      <th>4</th>\n      <td>11504802</td>\n      <td>0.270128</td>\n    </tr>\n  </tbody>\n</table>\n</div>"
          },
          "metadata": {}
        }
      ]
    },
    {
      "cell_type": "code",
      "source": [],
      "metadata": {
        "id": "gpp5tWXzilYT"
      },
      "execution_count": null,
      "outputs": []
    }
  ]
}